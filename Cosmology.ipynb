{
 "cells": [
  {
   "cell_type": "markdown",
   "metadata": {},
   "source": [
    "# Age of the Universe\n",
    "\n",
    "#### Step 0: Import the necessary packages into python. \n",
    "Packages are like tool bags, they offer functions (pieces of codes that does specific calculation, for example, sorting a list of numbers) that can make your coding life simpler.  "
   ]
  },
  {
   "cell_type": "code",
   "execution_count": null,
   "metadata": {
    "collapsed": true
   },
   "outputs": [],
   "source": [
    "import numpy as np \n",
    "import matplotlib.pyplot as plt"
   ]
  },
  {
   "cell_type": "markdown",
   "metadata": {},
   "source": [
    "### Distances in the Universe\n",
    "\n",
    "Using the luminosity and period relation of Cepheids, we can measure the \"absolute brightness\" (luminosity) of Cepheids even when they are far away.\n",
    "\n",
    "#### Step 1:  Measure the apparent magnitude and period of the Cepheids in your worksheets. \n",
    "In the worksheet, there are 12 Cepheids in the galaxy M100. To calculate an accurate distance of M100, we will take the average distance of the 12 Cepheids as the distance of the M100. Insert and store the values in python \"lists\" in order."
   ]
  },
  {
   "cell_type": "code",
   "execution_count": null,
   "metadata": {
    "collapsed": false
   },
   "outputs": [],
   "source": [
    "mag_app =  #enter your meausred magnitude: [magnitude1, magnitude2, magnitude3, ...]\n",
    "period =  #enter your measured period: [period1, period2, period3, ...]\n",
    "print ('Apparent Magnitude:',mag_app)\n",
    "print ('Period:',period)"
   ]
  },
  {
   "cell_type": "markdown",
   "metadata": {},
   "source": [
    "#### Step 2: Use the P-L equation to measure the absolute magnitude.\n",
    "The relation of the P-L relation is: $M=-2.78\\times log(Period) -1.35$\n",
    "\n",
    "In the numpy package, to calculate the logarithmic of a number or a list, you can use the function np.log10(number_or_lists). Write down the equation in python format in below."
   ]
  },
  {
   "cell_type": "code",
   "execution_count": null,
   "metadata": {
    "collapsed": false
   },
   "outputs": [],
   "source": [
    "mag_abs = #type in equation here\n",
    "print ('Absolute Magnitude: ',mag_abs)"
   ]
  },
  {
   "cell_type": "markdown",
   "metadata": {},
   "source": [
    "#### Step 3: Use the M-m equation to measure the distance of each Cepheid.\n",
    "The relation between the apparent magnitude, absolute magnitude and distance is: $D = 10^{\\frac{(m-M)}{5}+1}$ (in parsec).\n",
    "\n",
    "We want our results in units of Megaparsec, so divide D by 1000,000. 1 parsec is about 20,000,000,000,000 (or $2\\times$$10^{13}$) miles, and Milky Way is about 30,000 parsecs."
   ]
  },
  {
   "cell_type": "code",
   "execution_count": null,
   "metadata": {
    "collapsed": false
   },
   "outputs": [],
   "source": [
    "D =  #type in equation here\n",
    "D = D/1000000.\n",
    "print ('Distance to each Cephid: ',D,' Mpc')"
   ]
  },
  {
   "cell_type": "markdown",
   "metadata": {},
   "source": [
    "### Hubble's Law\n",
    "\n",
    "#### Step 4: Calculate the Hubble constant.\n",
    "Use the average distance of the Cepheids as the distance to M100. In numpy, the average of a list of numbers can be returned by using the function np.mean().\n",
    "\n",
    "Hubble's Law tell us the rate at which galaxies are leaving us is related to their distance from us, with a factor of a \"Hubble constant\": $v=H_0\\times D$.  We can measure the velocity of M100 by looking at their spectra, which is 1400km/s. And using $H_0=v/D$, we can calculate the Hubble constant."
   ]
  },
  {
   "cell_type": "code",
   "execution_count": null,
   "metadata": {
    "collapsed": false
   },
   "outputs": [],
   "source": [
    "v = 1400.0\n",
    "D_average = #type in equation here\n",
    "H0 = #type in equation here\n",
    "print ('Distance to M100: ',D_average,'Mpc')\n",
    "print ('Hubble constant: ', H0)"
   ]
  },
  {
   "cell_type": "markdown",
   "metadata": {},
   "source": [
    "#### Step 5: Calculate the Age of the Universe\n",
    "If M100 is receding from us at a constant speed since the beginning of the Universe, then $D = v\\times t_0$ and $t_0$ is the age of the Universe. Combined with Hubble's Law, $v=H_0\\times D = H_0\\times v\\times t_0$, so $t_0 = 1/H_0$. Remember to convert the time into a unit that you recognize. (Hint: Mpc/km = 3.09e19 and year = 3.2e7 seconds, so you divide your t0 by 3.2e7/3.09e18)"
   ]
  },
  {
   "cell_type": "code",
   "execution_count": null,
   "metadata": {
    "collapsed": false
   },
   "outputs": [],
   "source": [
    "t0 = #in s-Mpc/km #type in equation here\n",
    "t0_year =  t0/3.2e7*3.09e18 # convert to years\n",
    "print ('Age of the Universe is ',t0_year,' years!')"
   ]
  },
  {
   "cell_type": "markdown",
   "metadata": {},
   "source": [
    "#### Step 6: Now try with more HST data!\n",
    "One of Hubble's key project was to measure H0 accurately. We use the data from the HST final results paper, which has distance measurements of many galaxies to measure H0."
   ]
  },
  {
   "cell_type": "code",
   "execution_count": null,
   "metadata": {
    "collapsed": false
   },
   "outputs": [],
   "source": [
    "## We load in the data by using the loadtxt function. \n",
    "distance, velocity = np.loadtxt('HST_final.txt',usecols=(1,2),skiprows=1).T\n",
    "print ('Distance(Mpc)',distance)\n",
    "print ('Velocity(km/s)',velocity)"
   ]
  },
  {
   "cell_type": "markdown",
   "metadata": {},
   "source": [
    "#### Step 7: Let's look at the data!\n",
    "Using the python function \"plot\", you can see how the data correlates. What do you think Hubble's Law look like?"
   ]
  },
  {
   "cell_type": "code",
   "execution_count": null,
   "metadata": {
    "collapsed": false
   },
   "outputs": [],
   "source": [
    "plt.plot(distance,velocity,'r.') ## plot (xdata, ydata, '.')\n",
    "plt.xlabel('Distance(Mpc)')\n",
    "plt.ylabel('Velocity(km/s)')\n",
    "plt.show()"
   ]
  },
  {
   "cell_type": "markdown",
   "metadata": {},
   "source": [
    "#### Step 8: \"Fitting\" the data\n",
    "We can find the \"best\" H0 values by fitting a straight line to the data points and finding the slope. This is called linear regression. \n",
    "The numpy polyfit function allows you to fit a straight line (1d polynomial) to the data points, and poly1d generates the equation that you can use later. "
   ]
  },
  {
   "cell_type": "code",
   "execution_count": null,
   "metadata": {
    "collapsed": false
   },
   "outputs": [],
   "source": [
    "myfitting = np.polyfit(distance,velocity,1)\n",
    "hubble_law = np.poly1d(myfitting)\n",
    "print ('y=',hubble_law)\n",
    "print ('H0 is ',hubble_law[1])"
   ]
  },
  {
   "cell_type": "markdown",
   "metadata": {},
   "source": [
    "#### Step 9: Now look at the data again!"
   ]
  },
  {
   "cell_type": "code",
   "execution_count": null,
   "metadata": {
    "collapsed": false
   },
   "outputs": [],
   "source": [
    "plot_xgrid = np.linspace(0,21,num=100)\n",
    "plot_ygrid = hubble_law(plot_xgrid)\n",
    "plt.plot(distance,velocity,'k.')\n",
    "plt.xlabel('Distance(Mpc)')\n",
    "plt.ylabel('Velocity(km/s)')\n",
    "plt.plot(plot_xgrid,plot_ygrid,'-')\n",
    "plt.show()"
   ]
  },
  {
   "cell_type": "markdown",
   "metadata": {},
   "source": [
    "#### Step 10: Finally, recalculate H0!\n",
    "Plug in the H0 you find from the HST data."
   ]
  },
  {
   "cell_type": "code",
   "execution_count": null,
   "metadata": {
    "collapsed": false
   },
   "outputs": [],
   "source": [
    "H0 = #enter H0 from fitting here\n",
    "t0 = 1./H0 #in s-Mpc/km\n",
    "t0_year = 1./H0/3.2e7*3.09e19\n",
    "print ('Age of the Universe is ',t0_year,' years!')"
   ]
  },
  {
   "cell_type": "code",
   "execution_count": null,
   "metadata": {
    "collapsed": true
   },
   "outputs": [],
   "source": []
  }
 ],
 "metadata": {
  "anaconda-cloud": {},
  "kernelspec": {
   "display_name": "Python [conda root]",
   "language": "python",
   "name": "conda-root-py"
  },
  "language_info": {
   "codemirror_mode": {
    "name": "ipython",
    "version": 2
   },
   "file_extension": ".py",
   "mimetype": "text/x-python",
   "name": "python",
   "nbconvert_exporter": "python",
   "pygments_lexer": "ipython2",
   "version": "2.7.12"
  }
 },
 "nbformat": 4,
 "nbformat_minor": 1
}
